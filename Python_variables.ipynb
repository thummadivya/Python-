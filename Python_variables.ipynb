{
 "cells": [
  {
   "cell_type": "markdown",
   "id": "1eebd26e",
   "metadata": {},
   "source": [
    "### Variables\n",
    "- Variables are used to store the data or to allocation of memory\n",
    "- Variables have five rules\n",
    "- 1. Variables will be alpha-numeric charcaters like [a-z, A-Z] [0-9]\n",
    "- 2. Variables will not start with numeric\n",
    "- 3. Variables will not start with special case letters but _ underscore has a exception.\n",
    "- 4. Variables is Case sensitive\n",
    "- 5  Variables will not be keywords"
   ]
  },
  {
   "cell_type": "code",
   "execution_count": null,
   "id": "70939d8a",
   "metadata": {},
   "outputs": [
    {
     "name": "stdout",
     "output_type": "stream",
     "text": [
      "7 3.72 1256 Dhoni 7 True False 1j\n",
      "<class 'int'> <class 'float'> <class 'int'> <class 'bool'> <class 'str'> <class 'complex'>\n"
     ]
    }
   ],
   "source": [
    "## Examples for variables\n",
    "a = 12\n",
    "b = 2.43\n",
    "c = True\n",
    "d = 3j\n",
    "e = \"divi\"\n",
    "print(a, b, c, d, e)\n",
    "print(type(a), type(b), type(c), type(d), type(e))\n"
   ]
  },
  {
   "cell_type": "code",
   "execution_count": null,
   "id": "2f758a67",
   "metadata": {},
   "outputs": [
    {
     "ename": "SyntaxError",
     "evalue": "invalid decimal literal (861415913.py, line 1)",
     "output_type": "error",
     "traceback": [
      "\u001b[1;36m  Cell \u001b[1;32mIn[3], line 1\u001b[1;36m\u001b[0m\n\u001b[1;33m    1A=3  # start with numeric\u001b[0m\n\u001b[1;37m    ^\u001b[0m\n\u001b[1;31mSyntaxError\u001b[0m\u001b[1;31m:\u001b[0m invalid decimal literal\n"
     ]
    }
   ],
   "source": [
    "1A=3  # start with numeric\n",
    "class=3  # keyword as variable\n",
    "@s=7.4 # special charcter has a start\n",
    "1c=True\n",
    "\n",
    "## this varibales does not followed variables rules that's why it shows errors."
   ]
  },
  {
   "cell_type": "markdown",
   "id": "b946379f",
   "metadata": {},
   "source": [
    "# Data Types"
   ]
  },
  {
   "cell_type": "markdown",
   "id": "55ce495b",
   "metadata": {},
   "source": [
    "### In python there are two types of data types\n",
    "-  1. Basic Data type\n",
    "-  2. Advanced Data type\n",
    "\n",
    "-  1. Basic Data type\n",
    "-    In Basic data type there are 4 types\n",
    "- Data type is to identify the variable which type of data is stored for that variable\n",
    "-     1.1 Int- In integer from -infinity to + infinity all are integers\n",
    "-     1.2 Float - In float means decimal numbers -infinity to + infinity\n",
    "-     1.3 Complex - Complex numbers means real number and imaginary number\n",
    "           \n",
    "-         complex number = real number + imaginary number\n",
    "\n",
    "-         complex number = 3 + 2j\n",
    "\n",
    "-     1.4 Boolean- Boolean means True are False"
   ]
  },
  {
   "cell_type": "code",
   "execution_count": null,
   "id": "25c3ca34",
   "metadata": {},
   "outputs": [
    {
     "name": "stdout",
     "output_type": "stream",
     "text": [
      "Add: 100\n",
      "Sub: -96\n",
      "Mul: 196\n",
      "Div: 0.02040816326530612\n"
     ]
    }
   ],
   "source": [
    "## Example of INt\n",
    "\n",
    "a,b=2,98\n",
    "print(\"Add:\",a+b)\n",
    "print(\"Sub:\",a-b)\n",
    "print(\"Mul:\",a*b)\n",
    "print(\"Div:\",a/b)"
   ]
  },
  {
   "cell_type": "code",
   "execution_count": null,
   "id": "267d9f3a",
   "metadata": {},
   "outputs": [
    {
     "name": "stdout",
     "output_type": "stream",
     "text": [
      "Add: 13.399999999999999\n",
      "Sub: 2.2\n",
      "Mul: 43.68\n",
      "Div: 1.392857142857143\n"
     ]
    }
   ],
   "source": [
    "## Example of float\n",
    "\n",
    "a=7.8\n",
    "b=5.6\n",
    "print(\"Add:\",a+b)\n",
    "print(\"Sub:\",a-b)\n",
    "print(\"Mul:\",a*b)\n",
    "print(\"Div:\",a/b)"
   ]
  },
  {
   "cell_type": "code",
   "execution_count": null,
   "id": "de72f343",
   "metadata": {},
   "outputs": [
    {
     "name": "stdout",
     "output_type": "stream",
     "text": [
      "Add: (2+4j)\n",
      "Sub: (2-2j)\n",
      "Mul: (-3+6j)\n",
      "Div: (0.3333333333333333-0.6666666666666666j)\n"
     ]
    }
   ],
   "source": [
    "## Example of Complex\n",
    "\n",
    "a=2+1j\n",
    "b=0+3j\n",
    "print(\"Add:\",a+b)\n",
    "print(\"Sub:\",a-b)\n",
    "print(\"Mul:\",a*b)\n",
    "print(\"Div:\",a/b)"
   ]
  },
  {
   "cell_type": "markdown",
   "id": "6e2dca68",
   "metadata": {},
   "source": [
    "#### Boolean data type"
   ]
  },
  {
   "cell_type": "code",
   "execution_count": null,
   "id": "f8221bff",
   "metadata": {},
   "outputs": [
    {
     "name": "stdout",
     "output_type": "stream",
     "text": [
      "False\n",
      "False\n",
      "True\n"
     ]
    }
   ],
   "source": [
    "a=5\n",
    "b=6\n",
    "print(a>b)\n",
    "c=5.6\n",
    "d=6.7\n",
    "print(c==d)\n",
    "print(a<b)\n",
    "\n",
    "## If the condition is satisifies it will give true, the condition is not satisifies it shows false\n"
   ]
  },
  {
   "cell_type": "code",
   "execution_count": null,
   "id": "13d65187",
   "metadata": {},
   "outputs": [
    {
     "data": {
      "text/plain": [
       "True"
      ]
     },
     "execution_count": 14,
     "metadata": {},
     "output_type": "execute_result"
    }
   ],
   "source": [
    "A=6+7j\n",
    "B=6+7j\n",
    "A==B"
   ]
  },
  {
   "cell_type": "code",
   "execution_count": null,
   "id": "28e5d4fc",
   "metadata": {},
   "outputs": [
    {
     "ename": "TypeError",
     "evalue": "'>' not supported between instances of 'complex' and 'complex'",
     "output_type": "error",
     "traceback": [
      "\u001b[1;31m---------------------------------------------------------------------------\u001b[0m",
      "\u001b[1;31mTypeError\u001b[0m                                 Traceback (most recent call last)",
      "Cell \u001b[1;32mIn[15], line 3\u001b[0m\n\u001b[0;32m      1\u001b[0m x\u001b[38;5;241m=\u001b[39m\u001b[38;5;241m4\u001b[39m\u001b[38;5;241m+\u001b[39m\u001b[38;5;241m6\u001b[39mj\n\u001b[0;32m      2\u001b[0m y\u001b[38;5;241m=\u001b[39m\u001b[38;5;241m5\u001b[39m\u001b[38;5;241m+\u001b[39m\u001b[38;5;241m7\u001b[39mj\n\u001b[1;32m----> 3\u001b[0m x\u001b[38;5;241m>\u001b[39my\n",
      "\u001b[1;31mTypeError\u001b[0m: '>' not supported between instances of 'complex' and 'complex'"
     ]
    }
   ],
   "source": [
    "x=4+6j\n",
    "y=5+7j\n",
    "x>y\n",
    "\n",
    "## we cannot comapre them directly in python\n",
    "## we can compare their magnitude or specific parts like real number or imaginary number"
   ]
  },
  {
   "cell_type": "code",
   "execution_count": null,
   "id": "1d270a2c",
   "metadata": {},
   "outputs": [
    {
     "data": {
      "text/plain": [
       "False"
      ]
     },
     "execution_count": 18,
     "metadata": {},
     "output_type": "execute_result"
    }
   ],
   "source": [
    "abs(x)>abs(y)"
   ]
  },
  {
   "cell_type": "code",
   "execution_count": null,
   "id": "08469039",
   "metadata": {},
   "outputs": [
    {
     "data": {
      "text/plain": [
       "True"
      ]
     },
     "execution_count": 19,
     "metadata": {},
     "output_type": "execute_result"
    }
   ],
   "source": [
    "x.real < y.real"
   ]
  },
  {
   "cell_type": "code",
   "execution_count": null,
   "id": "2c791775",
   "metadata": {},
   "outputs": [
    {
     "data": {
      "text/plain": [
       "False"
      ]
     },
     "execution_count": 20,
     "metadata": {},
     "output_type": "execute_result"
    }
   ],
   "source": [
    "x.imag > y.imag"
   ]
  },
  {
   "cell_type": "code",
   "execution_count": null,
   "id": "425a85bb",
   "metadata": {},
   "outputs": [
    {
     "name": "stdout",
     "output_type": "stream",
     "text": [
      "True\n",
      "True\n",
      "True\n",
      "False\n",
      "False\n",
      "True\n",
      "False\n",
      "False\n"
     ]
    }
   ],
   "source": [
    "## By using Bool() function\n",
    "\n",
    "print(bool(8))\n",
    "print(bool(7.6))\n",
    "print(bool(1+0j))\n",
    "print(bool())\n",
    "print(bool(0+0j))\n",
    "print(bool(3+4j))\n",
    "print(bool(0))\n",
    "print(bool(0.0))"
   ]
  },
  {
   "cell_type": "markdown",
   "id": "ea0c6bcf",
   "metadata": {},
   "source": [
    "## Type conversion or type casting"
   ]
  },
  {
   "cell_type": "code",
   "execution_count": null,
   "id": "652c444a",
   "metadata": {},
   "outputs": [
    {
     "name": "stdout",
     "output_type": "stream",
     "text": [
      "8.0\n",
      "<class 'float'>\n"
     ]
    }
   ],
   "source": [
    "## convert int to float ot float to int\n",
    "## But we cannot convert complex into it or float\n",
    "\n",
    "a=8\n",
    "b=float(a)\n",
    "print(b)\n",
    "print(type(b))"
   ]
  },
  {
   "cell_type": "code",
   "execution_count": null,
   "id": "a7dc0a47",
   "metadata": {},
   "outputs": [
    {
     "name": "stdout",
     "output_type": "stream",
     "text": [
      "7\n",
      "<class 'int'>\n"
     ]
    }
   ],
   "source": [
    "A=7.8\n",
    "B=int(A)\n",
    "print(B)\n",
    "print(type(B))"
   ]
  },
  {
   "cell_type": "code",
   "execution_count": null,
   "id": "79f86489",
   "metadata": {},
   "outputs": [
    {
     "ename": "TypeError",
     "evalue": "int() argument must be a string, a bytes-like object or a real number, not 'complex'",
     "output_type": "error",
     "traceback": [
      "\u001b[1;31m---------------------------------------------------------------------------\u001b[0m",
      "\u001b[1;31mTypeError\u001b[0m                                 Traceback (most recent call last)",
      "Cell \u001b[1;32mIn[10], line 2\u001b[0m\n\u001b[0;32m      1\u001b[0m c\u001b[38;5;241m=\u001b[39m\u001b[38;5;241m5\u001b[39m\u001b[38;5;241m+\u001b[39m\u001b[38;5;241m9\u001b[39mj\n\u001b[1;32m----> 2\u001b[0m d\u001b[38;5;241m=\u001b[39m\u001b[38;5;28mint\u001b[39m(c)\n\u001b[0;32m      3\u001b[0m \u001b[38;5;28mprint\u001b[39m(d)\n",
      "\u001b[1;31mTypeError\u001b[0m: int() argument must be a string, a bytes-like object or a real number, not 'complex'"
     ]
    }
   ],
   "source": [
    "c=5+9j\n",
    "d=int(c)\n",
    "print(d)\n",
    "\n",
    "## we cannot convert complex in to other data type because of imaginary number"
   ]
  },
  {
   "cell_type": "code",
   "execution_count": null,
   "id": "d69104cc",
   "metadata": {},
   "outputs": [
    {
     "name": "stdout",
     "output_type": "stream",
     "text": [
      "(78+0j)\n",
      "<class 'complex'>\n"
     ]
    }
   ],
   "source": [
    "a=78\n",
    "b=complex(a)\n",
    "print(b)\n",
    "print(type(b))"
   ]
  },
  {
   "cell_type": "code",
   "execution_count": null,
   "id": "29774bd4",
   "metadata": {},
   "outputs": [
    {
     "name": "stdout",
     "output_type": "stream",
     "text": [
      "(5.6+0j)\n",
      "<class 'complex'>\n"
     ]
    }
   ],
   "source": [
    "c=5.6\n",
    "d=complex(c)\n",
    "print(d)\n",
    "print(type(d))"
   ]
  },
  {
   "cell_type": "code",
   "execution_count": null,
   "id": "5151944a",
   "metadata": {},
   "outputs": [],
   "source": []
  }
 ],
 "metadata": {
  "kernelspec": {
   "display_name": "Python 3 (ipykernel)",
   "language": "python",
   "name": "python3"
  },
  "language_info": {
   "codemirror_mode": {
    "name": "ipython",
    "version": 3
   },
   "file_extension": ".py",
   "mimetype": "text/x-python",
   "name": "python",
   "nbconvert_exporter": "python",
   "pygments_lexer": "ipython3",
   "version": "3.11.7"
  }
 },
 "nbformat": 4,
 "nbformat_minor": 5
}
