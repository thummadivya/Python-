{
 "cells": [
  {
   "cell_type": "markdown",
   "id": "23f7ee82-d7b5-4e9e-b99a-4edb43ff66e4",
   "metadata": {},
   "source": [
    "Encapsulation:\n",
    "wrapping the data and methods in a single unit\n",
    "\n",
    "used for security purpose\n",
    "\n",
    "helps to achieve data hiding\n",
    "\n",
    "we denote attributes using underscore(_)\n",
    "\n",
    "we have three types here:\n",
    "\n",
    "public/private\n",
    "\n",
    "protect\n",
    "\n",
    "for proctectiong we use single underscore(_)\n",
    "for private and public we use double underscore(__)\n",
    "private can be used only in particular class\n",
    "we as protect can be used in everywhere when the inheritence is done\n"
   ]
  },
  {
   "cell_type": "code",
   "execution_count": 3,
   "id": "16cddf76-7f7c-4448-bfdf-20ff1cf1706a",
   "metadata": {},
   "outputs": [],
   "source": [
    "class Demo:\n",
    "    def __init__(self, a, b):\n",
    "        self.__a = a  \n",
    "        self._b = b   \n",
    "\n",
    "    def output(self):\n",
    "        print(self._b)\n",
    "        print(self.__a) \n"
   ]
  },
  {
   "cell_type": "code",
   "execution_count": 5,
   "id": "9dbd21ad-4034-44df-8961-a4e255b8e7cc",
   "metadata": {},
   "outputs": [
    {
     "name": "stdout",
     "output_type": "stream",
     "text": [
      "10\n",
      "5\n",
      "10\n"
     ]
    }
   ],
   "source": [
    "class Demo1(Demo):\n",
    "    def input(self):\n",
    "        print(self._b)\n",
    "\n",
    "    def private(self):\n",
    "        print(self.__a)\n",
    "d = Demo1(5, 10)\n",
    "d.output()\n",
    "d.input()\n"
   ]
  },
  {
   "cell_type": "code",
   "execution_count": 7,
   "id": "607fd4d1-ee2b-44a5-a5ff-c632d32f731c",
   "metadata": {},
   "outputs": [],
   "source": [
    "class dog:\n",
    "\n",
    "    def __init__(self,name,age):\n",
    "        self.__name=name\n",
    "        self.__age=age\n",
    "\n",
    "    def get_name(self):\n",
    "        print(self.__name)\n",
    "\n",
    "    def get_age(self):\n",
    "        print(self.__age)\n"
   ]
  },
  {
   "cell_type": "code",
   "execution_count": 9,
   "id": "6c554f0b-f97d-4995-97d4-b30ff3521c67",
   "metadata": {},
   "outputs": [
    {
     "name": "stdout",
     "output_type": "stream",
     "text": [
      "max\n",
      "Buddy\n",
      "3\n"
     ]
    }
   ],
   "source": [
    "class dog1(dog):\n",
    "    def input(self):\n",
    "        self.get_name()\n",
    "        self.get_age() \n",
    "max=dog(\"max\",5)\n",
    "max.get_name()\n",
    "max\n",
    "d = dog1(\"Buddy\", 3)\n",
    "d.input()\n"
   ]
  },
  {
   "cell_type": "markdown",
   "id": "ae835521-639e-41c0-8db3-66fa9a89145b",
   "metadata": {},
   "source": [
    "Polymorphism:\n",
    "--> poly simply means many forms\n",
    "-->the same entity can perform different operations in different scenarios\n"
   ]
  },
  {
   "cell_type": "code",
   "execution_count": 13,
   "id": "1a689e58-3e27-4d2f-a23f-6909dcc28c78",
   "metadata": {},
   "outputs": [],
   "source": [
    "class add:\n",
    "    def add(self,a,b):\n",
    "        print(a+b)\n"
   ]
  },
  {
   "cell_type": "code",
   "execution_count": 15,
   "id": "785b6db4-0f34-43fa-afa1-8956c37ad304",
   "metadata": {},
   "outputs": [
    {
     "name": "stdout",
     "output_type": "stream",
     "text": [
      "8\n",
      "ab\n",
      "7.6\n",
      "(7+27j)\n"
     ]
    }
   ],
   "source": [
    "a=add()\n",
    "a.add(3,5)\n",
    "a.add('a','b')\n",
    "a.add(3.4,4.2)\n",
    "a.add(3+4j,4+23j)\n"
   ]
  },
  {
   "cell_type": "code",
   "execution_count": 18,
   "id": "7b8ef03b-f674-4f60-bcfb-64438c62d968",
   "metadata": {},
   "outputs": [],
   "source": [
    "class multi:\n",
    "    def mul(self,a,b,c):\n",
    "        print(a*b*c)\n"
   ]
  },
  {
   "cell_type": "code",
   "execution_count": 21,
   "id": "efcbfaeb-815c-4856-952f-18dc43627028",
   "metadata": {},
   "outputs": [
    {
     "name": "stdout",
     "output_type": "stream",
     "text": [
      "30\n"
     ]
    }
   ],
   "source": [
    "b=multi()\n",
    "b.mul(3,5,2)\n"
   ]
  },
  {
   "cell_type": "code",
   "execution_count": 24,
   "id": "8b14bc5b-cc60-4229-a72e-ab3d46790a99",
   "metadata": {},
   "outputs": [
    {
     "name": "stdout",
     "output_type": "stream",
     "text": [
      "385.56\n"
     ]
    }
   ],
   "source": [
    "b.mul(3.4,2.1,54)"
   ]
  },
  {
   "cell_type": "code",
   "execution_count": 26,
   "id": "823a651a-4f5d-43be-8617-aae5953b4f9c",
   "metadata": {},
   "outputs": [
    {
     "name": "stdout",
     "output_type": "stream",
     "text": [
      "(-792+2204j)\n"
     ]
    }
   ],
   "source": [
    "b.mul(2+12j,4+2j,43+2j)\n"
   ]
  },
  {
   "cell_type": "markdown",
   "id": "220b2dac-e89e-4db3-a2a0-2e3fa9b43c0f",
   "metadata": {},
   "source": [
    "Abstraction:\n",
    "Hiding the unnecessary details\n",
    "Abstarction allows us to focus on the what an object does rather than how it achieve its functionality\n"
   ]
  },
  {
   "cell_type": "code",
   "execution_count": 33,
   "id": "a7feb1aa-310c-43ad-8d16-029625fcec4c",
   "metadata": {},
   "outputs": [],
   "source": [
    "class car:\n",
    "    def start_engine(self):\n",
    "        pass\n",
    "    def start_drive(self):\n",
    "        pass\n",
    "    def stop_engine(self):\n",
    "        pass"
   ]
  }
 ],
 "metadata": {
  "kernelspec": {
   "display_name": "Python 3 (ipykernel)",
   "language": "python",
   "name": "python3"
  },
  "language_info": {
   "codemirror_mode": {
    "name": "ipython",
    "version": 3
   },
   "file_extension": ".py",
   "mimetype": "text/x-python",
   "name": "python",
   "nbconvert_exporter": "python",
   "pygments_lexer": "ipython3",
   "version": "3.12.7"
  }
 },
 "nbformat": 4,
 "nbformat_minor": 5
}
