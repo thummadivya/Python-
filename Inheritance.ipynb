{
 "cells": [
  {
   "cell_type": "markdown",
   "id": "fe3f04e0-27ec-4224-b317-75dd15bb528c",
   "metadata": {},
   "source": [
    "Inheritence\n",
    "way of creating a new class from an existing class without any mofifying it\n",
    "The newly formed class is derived class and also called as Child class\n",
    "The existing class is called base class or Child class\n",
    "we can have 1 parent class - 2 child classes or\n",
    "1 parent class - 1 child class\n",
    "First we need to create the base class and using base class we can create the child class\n"
   ]
  },
  {
   "cell_type": "code",
   "execution_count": 1,
   "id": "baa1a5b0-28c1-471e-ba2c-5d8a81fa5eed",
   "metadata": {},
   "outputs": [],
   "source": [
    "class person:\n",
    "\n",
    "    def __init__(self,name,age):\n",
    "        self.name=name\n",
    "        self.age=age\n"
   ]
  },
  {
   "cell_type": "code",
   "execution_count": 3,
   "id": "d4cfc75d-057c-4430-8a49-a7090e2f0c0c",
   "metadata": {},
   "outputs": [],
   "source": [
    "class Raj(person):\n",
    "    def Myname(self):\n",
    "        print(\"My name is Raj\")\n"
   ]
  },
  {
   "cell_type": "code",
   "execution_count": 5,
   "id": "9b2f6156-3204-4590-a415-88c520c5cdf6",
   "metadata": {},
   "outputs": [],
   "source": [
    "class Devika(person):\n",
    "    def Myname(self):\n",
    "        print(\"My name is Devika\")\n"
   ]
  },
  {
   "cell_type": "code",
   "execution_count": 9,
   "id": "d4d0e2df-513a-475d-8014-a9aab084d3f3",
   "metadata": {},
   "outputs": [
    {
     "name": "stdout",
     "output_type": "stream",
     "text": [
      "24\n",
      "50\n"
     ]
    }
   ],
   "source": [
    "r = Raj(\"Raj\", 24)\n",
    "d = Devika(\"Devika\", 50)\n",
    "print(r.age)\n",
    "print( d.age)\n"
   ]
  },
  {
   "cell_type": "code",
   "execution_count": 13,
   "id": "9ff1bbba-3c3f-4210-8bb3-94f8728709bc",
   "metadata": {},
   "outputs": [
    {
     "name": "stdout",
     "output_type": "stream",
     "text": [
      "My name is Raj\n",
      "My name is Devika\n"
     ]
    }
   ],
   "source": [
    "r.Myname()\n",
    "d.Myname()\n"
   ]
  },
  {
   "cell_type": "code",
   "execution_count": 15,
   "id": "e24bd52b-32f7-4db7-a468-c6c800bc752e",
   "metadata": {},
   "outputs": [],
   "source": [
    "class bike:\n",
    "\n",
    "    def color(self):\n",
    "        print(\"The color is black\")\n",
    "\n",
    "    def sound(self):\n",
    "        print(\"The sound is keek keek!\")\n"
   ]
  },
  {
   "cell_type": "code",
   "execution_count": null,
   "id": "fa0c8b55-4a5e-408e-a375-88675b211fb7",
   "metadata": {},
   "outputs": [],
   "source": [
    "class Honda(bike):\n",
    "\n",
    "    def Brand(self):\n",
    "        print(\"The Brand name is Honda\")\n",
    "\n",
    "class FZ(bike):\n",
    "\n",
    "    def Brand(self):\n",
    "        print(\"The Brand name is FZ\")\n"
   ]
  },
  {
   "cell_type": "code",
   "execution_count": null,
   "id": "7e17e96b-42b2-4189-aeee-8ba4da47ae2e",
   "metadata": {},
   "outputs": [],
   "source": [
    "Inheritence\n",
    "way of creating a new class from an existing class without any mofifying it\n",
    "The newly formed class is derived class and also called as Child class\n",
    "The existing class is called base class or Child class\n",
    "we can have 1 parent class - 2 child classes or\n",
    "1 parent class - 1 child class\n",
    "First we need to create the base class and using base class we can create the child class\n",
    "class person:\n",
    "\n",
    "    def __init__(self,name,age):\n",
    "        self.name=name\n",
    "        self.age=age\n",
    "\n",
    "class Sushma(person):\n",
    "    def Myname(self):\n",
    "        print(\"My name is sushma\")\n",
    "\n",
    "class Harsha(person):\n",
    "    def Myname(self):\n",
    "        print(\"My name is Harsha\")\n",
    "s = Sushma(\"Sushma\", 25)\n",
    "h = Harsha(\"Harsha\", 30)\n",
    "print(s.age)\n",
    "print( h.age)\n",
    "25\n",
    "30\n",
    "s.Myname()\n",
    "h.Myname()\n",
    "My name is sushma\n",
    "My name is Harsha\n",
    " \n",
    "class bike:\n",
    "\n",
    "    def color(self):\n",
    "        print(\"The color is black\")\n",
    "\n",
    "    def sound(self):\n",
    "        print(\"The sound is keek keek!\")\n",
    "\n",
    "class Honda(bike):\n",
    "\n",
    "    def Brand(self):\n",
    "        print(\"The Brand name is Honda\")\n",
    "\n",
    "class FZ(bike):\n",
    "\n",
    "    def Brand(self):\n",
    "        print(\"The Brand name is FZ\")\n",
    "a=Honda()\n",
    "a.color()\n",
    "a.sound()\n",
    "a.Brand()\n",
    "The color is black\n",
    "The sound is keek keek!\n",
    "The Brand name is Honda\n",
    "b=FZ()\n",
    "b.color()\n",
    "b.Brand()\n",
    "The color is black\n",
    "The Brand name is FZ\n",
    " \n",
    "class Teks:\n",
    "\n",
    "    def datascience(self):\n",
    "        print(\"It is DS\")\n",
    "\n",
    "    def dataanalyst(self):\n",
    "        print(\"It is DA\")\n",
    "\n",
    "    def python(self):\n",
    "        print(\"It is included\")\n",
    "\n",
    "class Hitech(Teks):\n",
    "\n",
    "    def Branch(self):\n",
    "        print(\"It is in Hitech city\")\n",
    "\n",
    "class Ammerpet(Teks):\n",
    "\n",
    "    def Branch(self):\n",
    "        print(\"It is in Ameerpet location\")\n",
    "a=Hitech()\n",
    "a.datascience()\n",
    "a.python()\n",
    "a.Branch()\n",
    "It is DS\n",
    "It is included\n",
    "It is in Hitech city\n",
    "b=Ammerpet()\n",
    "b.dataanalyst()\n",
    "b.Branch()\n",
    "It is DA\n",
    "It is in Ameerpet location\n"
   ]
  }
 ],
 "metadata": {
  "kernelspec": {
   "display_name": "Python 3 (ipykernel)",
   "language": "python",
   "name": "python3"
  },
  "language_info": {
   "codemirror_mode": {
    "name": "ipython",
    "version": 3
   },
   "file_extension": ".py",
   "mimetype": "text/x-python",
   "name": "python",
   "nbconvert_exporter": "python",
   "pygments_lexer": "ipython3",
   "version": "3.12.7"
  }
 },
 "nbformat": 4,
 "nbformat_minor": 5
}
