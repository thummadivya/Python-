{
 "cells": [
  {
   "cell_type": "markdown",
   "id": "beb826d4-13fe-4bb8-8ca8-d0b6cf5d2ab4",
   "metadata": {},
   "source": [
    "File handling\n",
    "In python, file handling involves performing operations like reading and writing the files\n",
    "Here , we have 5 operations in a flie\n",
    "open file\n",
    "read file\n",
    "write file\n",
    "append file(if we want)\n",
    "close file\n",
    "Opening the file\n",
    "To open the file we use open() function\n",
    "This function require at least one argument (the name of the file to open )\n",
    "you can also specify in which mode the file should be opened\n",
    "commom modes include:\n",
    "\n",
    "r(read)\n",
    "w(write)\n",
    "a(append)\n",
    "b(binary write or read)\n",
    "t(text mode)\n"
   ]
  },
  {
   "cell_type": "code",
   "execution_count": 17,
   "id": "a43bcb33-e0f0-471e-aae9-11454ae24872",
   "metadata": {},
   "outputs": [],
   "source": [
    "file=open('EX.txt','r')"
   ]
  },
  {
   "cell_type": "markdown",
   "id": "b9c1b878-139b-4eef-ba18-6b769c4d0514",
   "metadata": {},
   "source": [
    "Reading the file\n",
    "There are several methods to read the file\n",
    "read() - read the entire file\n",
    "readline() - read one line at a time\n",
    "readlines() - Read all lines and return them as a list\n"
   ]
  },
  {
   "cell_type": "code",
   "execution_count": 20,
   "id": "db760493-9947-4ecb-9d85-f24ac2383973",
   "metadata": {},
   "outputs": [
    {
     "name": "stdout",
     "output_type": "stream",
     "text": [
      "Hello Team,\n",
      "I am Thumma Divya from Hyderabad\n",
      "I am learning Data Science in Teks Acadamy\n",
      "\n"
     ]
    }
   ],
   "source": [
    "content=file.read()\n",
    "print(content)\n"
   ]
  },
  {
   "cell_type": "code",
   "execution_count": 22,
   "id": "b4178b7f-319f-4f6e-901e-d1cea498101a",
   "metadata": {},
   "outputs": [
    {
     "name": "stdout",
     "output_type": "stream",
     "text": [
      "[]\n"
     ]
    }
   ],
   "source": [
    "lines=file.readlines()\n",
    "print(lines)\n"
   ]
  },
  {
   "cell_type": "code",
   "execution_count": 26,
   "id": "af630044-5d05-4fa1-9131-866e6abf5465",
   "metadata": {},
   "outputs": [
    {
     "name": "stdout",
     "output_type": "stream",
     "text": [
      "['Hello Team,\\n', 'I am Thumma Divya from Hyderabad\\n', 'I am learning Data Science in Teks Acadamy\\n']\n"
     ]
    }
   ],
   "source": [
    "file = open('EX.txt', 'r')\n",
    "lines = file.readlines()\n",
    "print(lines)\n"
   ]
  },
  {
   "cell_type": "code",
   "execution_count": 30,
   "id": "5cd2be13-9861-4270-8c94-fa9362257ea1",
   "metadata": {},
   "outputs": [
    {
     "name": "stdout",
     "output_type": "stream",
     "text": [
      "Hello Team,\n",
      "\n"
     ]
    }
   ],
   "source": [
    "file = open('EX.txt', 'r')\n",
    "lines = file.readline()\n",
    "print(lines)\n"
   ]
  },
  {
   "cell_type": "markdown",
   "id": "6a085941-0ebf-47de-a07d-6a305c4f5a49",
   "metadata": {},
   "source": [
    "writing the file\n",
    "To write the file , open it and we can use 'w' for write\n",
    "and append 'a' for add to the next line\n",
    "In write 'w' mode it will delete the before data and add new data\n",
    "In append 'a' mode it will add the data to the existing data\n"
   ]
  },
  {
   "cell_type": "code",
   "execution_count": 32,
   "id": "770c4bb7-f49a-4e9e-a6a1-a6cd99fe7f2f",
   "metadata": {},
   "outputs": [
    {
     "data": {
      "text/plain": [
       "20"
      ]
     },
     "execution_count": 32,
     "metadata": {},
     "output_type": "execute_result"
    }
   ],
   "source": [
    "file = open('EX.txt', 'w')\n",
    "file.write(\"Hi My name is Divya\\n\")"
   ]
  },
  {
   "cell_type": "code",
   "execution_count": 36,
   "id": "b56cfa11-9597-4e33-89f4-ab9f7b5075e3",
   "metadata": {},
   "outputs": [
    {
     "data": {
      "text/plain": [
       "58"
      ]
     },
     "execution_count": 36,
     "metadata": {},
     "output_type": "execute_result"
    }
   ],
   "source": [
    "file = open('EX.txt', 'a')\n",
    "file.write(\"I am excited to learn and improve my data science skills!\\n\")\n"
   ]
  },
  {
   "cell_type": "code",
   "execution_count": 40,
   "id": "5a0bdb5b-e155-4f43-ab55-ab52cc4a75fb",
   "metadata": {},
   "outputs": [
    {
     "data": {
      "text/plain": [
       "58"
      ]
     },
     "execution_count": 40,
     "metadata": {},
     "output_type": "execute_result"
    }
   ],
   "source": [
    "file = open('EX.txt', 'w')\n",
    "lines = [\n",
    "    'Hello Team,\\n', \n",
    "    'I am Thumma Divya from Hyderabad\\n', \n",
    "    'I am learning Data Science in Teks Acadamy\\n'\n",
    "]\n",
    "file.writelines(lines)\n",
    "file = open('EX.txt', 'a')\n",
    "file.write(\"I am excited to learn and improve my data science skills!\\n\")\n"
   ]
  },
  {
   "cell_type": "markdown",
   "id": "c3f80987-059c-4e06-b012-493ee68816cd",
   "metadata": {},
   "source": [
    "closing the file\n",
    "Always close a file after completing operations to free up the systems resources\n"
   ]
  },
  {
   "cell_type": "code",
   "execution_count": 42,
   "id": "80f50429-de3f-453a-9c2a-0c734300a10f",
   "metadata": {},
   "outputs": [],
   "source": [
    "file.close()\n"
   ]
  },
  {
   "cell_type": "markdown",
   "id": "edda4e2a-f5df-4fa2-a309-7f75274dc9f3",
   "metadata": {},
   "source": [
    "Exception Handling in files\n",
    "If an exception occurs when we are performing some operator with the file the code exists without closing the file\n",
    "\n",
    "A safer way is to use a try .... finally or\n",
    "\n",
    "                    try .... except\n"
   ]
  },
  {
   "cell_type": "code",
   "execution_count": 44,
   "id": "0da7eab8-9097-4b90-bf7f-a0258c05265f",
   "metadata": {},
   "outputs": [
    {
     "name": "stdout",
     "output_type": "stream",
     "text": [
      "I am excited to learn and improve my data science skills!\n",
      "\n"
     ]
    }
   ],
   "source": [
    "try:\n",
    "    file = open('example.txt', 'r')\n",
    "    read=file.read()\n",
    "    print(read)\n",
    "\n",
    "\n",
    "finally:\n",
    "    file.close()\n"
   ]
  },
  {
   "cell_type": "code",
   "execution_count": 46,
   "id": "962c16a5-53f2-4a63-a0d9-3da42651e1fc",
   "metadata": {},
   "outputs": [
    {
     "name": "stdout",
     "output_type": "stream",
     "text": [
      "given den is zero\n"
     ]
    }
   ],
   "source": [
    "try:\n",
    "    result=num/den\n",
    "    print(result)\n",
    "\n",
    "except:\n",
    "    print(\"given den is zero\")\n"
   ]
  },
  {
   "cell_type": "code",
   "execution_count": 50,
   "id": "d9698cbd-becd-4f6a-bc57-a5536a394fa8",
   "metadata": {},
   "outputs": [
    {
     "name": "stdin",
     "output_type": "stream",
     "text": [
      "enter the num: 2\n",
      "enter the num: 0\n"
     ]
    },
    {
     "name": "stdout",
     "output_type": "stream",
     "text": [
      "given den is zero\n"
     ]
    }
   ],
   "source": [
    "num=int(input(\"enter the num:\"))\n",
    "den=int(input(\"enter the num:\"))\n",
    "try:\n",
    "    result=num/den\n",
    "    print(result)\n",
    "\n",
    "except:\n",
    "    print(\"given den is zero\")\n"
   ]
  },
  {
   "cell_type": "markdown",
   "id": "15a203be-8480-440c-aa42-3d98fcea8eb3",
   "metadata": {},
   "source": [
    "Regular Expressions\n",
    "useful for NLP\n",
    "we can easily clean the data\n",
    "used for pattern matching , text manipulation\n",
    "flexible way to search ,match,manipulate the text data\n",
    "RegEx Functions\n",
    "The 're' module offers a set of functions that allows us to search a string for a match\n",
    "there are 4 main functions\n",
    "1.findall():\n",
    "\n",
    "returns a list of containing all matches\n"
   ]
  },
  {
   "cell_type": "code",
   "execution_count": 54,
   "id": "d8d874ac-6e4d-477d-9abe-65277aa89bba",
   "metadata": {},
   "outputs": [
    {
     "name": "stdin",
     "output_type": "stream",
     "text": [
      "enter the char: a\n"
     ]
    },
    {
     "name": "stdout",
     "output_type": "stream",
     "text": [
      "['a']\n"
     ]
    }
   ],
   "source": [
    "import re \n",
    "user=input(\"enter the char:\")\n",
    "txt=\"sushma\"\n",
    "x=re.findall(user,txt)\n",
    "print(x)\n"
   ]
  },
  {
   "cell_type": "code",
   "execution_count": 56,
   "id": "eefedb5c-9233-4350-b29c-931d33f168aa",
   "metadata": {},
   "outputs": [
    {
     "name": "stdin",
     "output_type": "stream",
     "text": [
      "enter the char: a\n"
     ]
    },
    {
     "name": "stdout",
     "output_type": "stream",
     "text": [
      "matched ['a']\n"
     ]
    }
   ],
   "source": [
    "import re \n",
    "user=input(\"enter the char:\")\n",
    "txt=\"Divya\"\n",
    "x=re.findall(user,txt)\n",
    "if x:\n",
    "    print(\"matched\",x)\n",
    "else:\n",
    "    print(\"not matched\",x)\n"
   ]
  },
  {
   "cell_type": "code",
   "execution_count": 58,
   "id": "d43dc48c-049b-43b4-a0d0-a5493af0d4bc",
   "metadata": {},
   "outputs": [
    {
     "name": "stdout",
     "output_type": "stream",
     "text": [
      "matched ['ma']\n"
     ]
    }
   ],
   "source": [
    "import re\n",
    "txt = \"sushma\"\n",
    "x = re.findall(\"ma\", txt)\n",
    "if x:\n",
    "    print(\"matched\",x)\n",
    "else:\n",
    "    print(\"not matched\",x)\n"
   ]
  },
  {
   "cell_type": "markdown",
   "id": "6ab1139e-6ea6-43f7-b464-532f4a303946",
   "metadata": {},
   "source": [
    "Search():\n",
    "Searches for the string for a match and returns a match object,if there is a match\n",
    "If there is more than one match ,only the first occurence of the match will be returned\n"
   ]
  },
  {
   "cell_type": "code",
   "execution_count": 62,
   "id": "b415f07f-697e-4c11-9b74-3aa7b92c57f4",
   "metadata": {},
   "outputs": [
    {
     "name": "stdout",
     "output_type": "stream",
     "text": [
      "6\n"
     ]
    }
   ],
   "source": [
    "import re\n",
    "txt=\"the rain in spain\"\n",
    "x=re.search('i',txt)\n",
    "print(x.start())\n"
   ]
  },
  {
   "cell_type": "code",
   "execution_count": 64,
   "id": "3200f717-c4af-4cf8-b91e-edcd34d4c436",
   "metadata": {},
   "outputs": [
    {
     "name": "stdout",
     "output_type": "stream",
     "text": [
      "12\n"
     ]
    }
   ],
   "source": [
    "import re\n",
    "txt=\"the rain in spain\"\n",
    "x=re.search('sp',txt)\n",
    "print(x.start())\n"
   ]
  },
  {
   "cell_type": "markdown",
   "id": "cc07071a-4273-44bd-aca3-d251976c774d",
   "metadata": {},
   "source": [
    "3.split():\n",
    "\n",
    "used to return a list where the string has been split at each match\n"
   ]
  },
  {
   "cell_type": "code",
   "execution_count": 66,
   "id": "5de4cf11-e45a-4004-b1ae-23093a81ab9e",
   "metadata": {},
   "outputs": [
    {
     "name": "stdout",
     "output_type": "stream",
     "text": [
      "['the ra', 'n ', 'n spa', 'n']\n"
     ]
    }
   ],
   "source": [
    "import re\n",
    "txt=\"the rain in spain\"\n",
    "x=re.split('i',txt)\n",
    "print(x)\n"
   ]
  },
  {
   "cell_type": "code",
   "execution_count": 68,
   "id": "e450d3da-3130-419d-b4d4-fe97704e2720",
   "metadata": {},
   "outputs": [
    {
     "name": "stdout",
     "output_type": "stream",
     "text": [
      "['the ra', ' ', ' spa', '']\n"
     ]
    }
   ],
   "source": [
    "import re\n",
    "txt=\"the rain in spain\"\n",
    "x=re.split('in',txt)\n",
    "print(x)\n"
   ]
  },
  {
   "cell_type": "code",
   "execution_count": 70,
   "id": "06e77ac2-f600-4512-bbed-bdf8278a90fc",
   "metadata": {},
   "outputs": [
    {
     "name": "stdout",
     "output_type": "stream",
     "text": [
      "['the', 'rain', 'in', 'spain']\n"
     ]
    }
   ],
   "source": [
    "import re\n",
    "txt=\"the rain in spain\"\n",
    "x=re.split(' ',txt)\n",
    "print(x)\n"
   ]
  },
  {
   "cell_type": "code",
   "execution_count": 72,
   "id": "419ff476-73b1-428c-94be-c5bbf4253245",
   "metadata": {},
   "outputs": [
    {
     "name": "stdout",
     "output_type": "stream",
     "text": [
      "['the rai', ' i', ' spain']\n"
     ]
    }
   ],
   "source": [
    "import re\n",
    "txt=\"the rain in spain\"\n",
    "x=re.split('n',txt,2)\n",
    "print(x)\n"
   ]
  },
  {
   "cell_type": "markdown",
   "id": "c39f14ba-b07e-4d0f-bb9b-d121ec59c6b4",
   "metadata": {},
   "source": [
    "4.sub():\n",
    "\n",
    "replaces the matches with the text of your choice\n"
   ]
  },
  {
   "cell_type": "code",
   "execution_count": 74,
   "id": "66be65f5-80ba-4489-bbce-312d0d413c7a",
   "metadata": {},
   "outputs": [
    {
     "name": "stdout",
     "output_type": "stream",
     "text": [
      "tue rain in india\n"
     ]
    }
   ],
   "source": [
    "import re\n",
    "txt=\"the rain in india\"\n",
    "x=re.sub(\"h\",\"u\",txt)\n",
    "print(x)\n"
   ]
  },
  {
   "cell_type": "code",
   "execution_count": 76,
   "id": "a0321675-f1a0-45bb-bfeb-51c9ae4cbd46",
   "metadata": {},
   "outputs": [
    {
     "name": "stdout",
     "output_type": "stream",
     "text": [
      "t12e rain in india\n"
     ]
    }
   ],
   "source": [
    "import re\n",
    "txt=\"the rain in india\"\n",
    "x=re.sub(\"h\",\"12\",txt)\n",
    "print(x)\n"
   ]
  },
  {
   "cell_type": "markdown",
   "id": "1df4e1a5-280c-4d55-b179-d0c772ae8a1d",
   "metadata": {},
   "source": [
    "Remaining Functions\n",
    "1.Literal characters:\n",
    "\n",
    "that match exactly as they appear\n"
   ]
  },
  {
   "cell_type": "code",
   "execution_count": 78,
   "id": "a6e7536b-eef5-4c0e-bcf3-333b7f90b157",
   "metadata": {},
   "outputs": [
    {
     "name": "stdout",
     "output_type": "stream",
     "text": [
      "match found: s\n"
     ]
    }
   ],
   "source": [
    "import re\n",
    "pattern = re.compile(r's')\n",
    "match = pattern.search('say hello to divya')\n",
    "if match:\n",
    "    print('match found:', match.group())\n",
    "else:\n",
    "    print('match not found')\n"
   ]
  },
  {
   "cell_type": "code",
   "execution_count": 82,
   "id": "3bc30f42-ce00-4939-98ce-cebb158e5b2d",
   "metadata": {},
   "outputs": [
    {
     "name": "stdout",
     "output_type": "stream",
     "text": [
      "match found: div\n"
     ]
    }
   ],
   "source": [
    "import re\n",
    "pattern = re.compile(r'div')\n",
    "match = pattern.search('say hello to divya')\n",
    "if match:\n",
    "    print('match found:', match.group())\n",
    "else:\n",
    "    print('match not found')\n"
   ]
  },
  {
   "cell_type": "markdown",
   "id": "3532bb39-5a09-4cb5-a80a-513341fc1a50",
   "metadata": {},
   "source": [
    "2.Dot(.)wild card:\n",
    "\n",
    "is a special character that matches any single character except a newline\n"
   ]
  },
  {
   "cell_type": "code",
   "execution_count": 84,
   "id": "80c95fe4-5e09-4fd5-a2d2-7750814cd45e",
   "metadata": {},
   "outputs": [
    {
     "name": "stdout",
     "output_type": "stream",
     "text": [
      "match found: ['frog', 'flag']\n"
     ]
    }
   ],
   "source": [
    "import re\n",
    "pattern = r\"f..g\"\n",
    "text = \"fog, frog, flag\"\n",
    "matches = re.findall(pattern, text)\n",
    "if match:\n",
    "    print(\"match found:\" ,matches)\n",
    "else:\n",
    "    print(\"match not found\")\n"
   ]
  },
  {
   "cell_type": "code",
   "execution_count": 86,
   "id": "0f88acf5-07e0-409f-b817-57efba2c96dc",
   "metadata": {},
   "outputs": [
    {
     "name": "stdout",
     "output_type": "stream",
     "text": [
      "match found: ['cat', 'cut']\n"
     ]
    }
   ],
   "source": [
    "import re\n",
    "pattern = r\"c.t\"\n",
    "text = \"cat, dog, cut, mouse\"\n",
    "matches = re.findall(pattern, text)\n",
    "if match:\n",
    "    print(\"match found:\" ,matches)\n",
    "else:\n",
    "    print(\"match not found\")\n"
   ]
  },
  {
   "cell_type": "markdown",
   "id": "910906b3-79f5-4ba4-bb86-5eb5cf99ec64",
   "metadata": {},
   "source": [
    "3.Square brackets[ ]:\n",
    "\n",
    "define a character class, allowing you to match any one of several specified characters at a given position in the pattern.\n"
   ]
  },
  {
   "cell_type": "code",
   "execution_count": null,
   "id": "0650a412-d8d3-41a7-a2d3-692b02388440",
   "metadata": {},
   "outputs": [],
   "source": [
    "File handling\n",
    "In python, file handling involves performing operations like reading and writing the files\n",
    "Here , we have 5 operations in a flie\n",
    "open file\n",
    "read file\n",
    "write file\n",
    "append file(if we want)\n",
    "close file\n",
    "Opening the file\n",
    "To open the file we use open() function\n",
    "This function require at least one argument (the name of the file to open )\n",
    "you can also specify in which mode the file should be opened\n",
    "commom modes include:\n",
    "\n",
    "r(read)\n",
    "w(write)\n",
    "a(append)\n",
    "b(binary write or read)\n",
    "t(text mode)\n",
    "file=open('example.txt','r')\n",
    "Reading the file\n",
    "There are several methods to read the file\n",
    "read() - read the entire file\n",
    "readline() - read one line at a time\n",
    "readlines() - Read all lines and return them as a list\n",
    "content=file.read()\n",
    "print(content)\n",
    "Hi My name is sushma \n",
    "Iam learning data science from Teks academy Hitech city branch\n",
    "And my timing are 5:30-6:30\n",
    "lines=file.readlines()\n",
    "print(lines)\n",
    "[]\n",
    "file = open('example.txt', 'r')\n",
    "lines = file.readlines()\n",
    "print(lines)\n",
    "['Hi My name is sushma \\n', 'Iam learning data science from Teks academy Hitech city branch\\n', 'And my timing are 5:30-6:30']\n",
    "file = open('example.txt', 'r')\n",
    "lines = file.readline()\n",
    "print(lines)\n",
    "Hi My name is sushma \n",
    "\n",
    "writing the file\n",
    "To write the file , open it and we can use 'w' for write\n",
    "and append 'a' for add to the next line\n",
    "In write 'w' mode it will delete the before data and add new data\n",
    "In append 'a' mode it will add the data to the existing data\n",
    "file = open('example.txt', 'w')\n",
    "file.write(\"Hi My name is sushma\\n\")\n",
    "21\n",
    "file = open('example.txt', 'a')\n",
    "file.write(\"I am excited to learn and improve my data science skills!\\n\")\n",
    "58\n",
    "file = open('example.txt', 'w')\n",
    "lines = [\n",
    "    \"Hi My name is sushma\\n\",\n",
    "    \"I am learning data science from Teks academy Hitech city branch\\n\",\n",
    "    \"And my timing are 5:30-6:30\\n\"\n",
    "]\n",
    "file.writelines(lines)\n",
    "file = open('example.txt', 'a')\n",
    "file.write(\"I am excited to learn and improve my data science skills!\\n\")\n",
    "58\n",
    "closing the file\n",
    "Always close a file after completing operations to free up the systems resources\n",
    "file.close()\n",
    "Exception Handling in files\n",
    "If an exception occurs when we are performing some operator with the file the code exists without closing the file\n",
    "\n",
    "A safer way is to use a try .... finally or\n",
    "\n",
    "                    try .... except\n",
    "try:\n",
    "    file = open('example.txt', 'r')\n",
    "    read=file.read()\n",
    "    print(read)\n",
    "\n",
    "\n",
    "finally:\n",
    "    file.close()\n",
    "Hi My name is sushma\n",
    "I am learning data science from Teks academy Hitech city branch\n",
    "And my timing are 5:30-6:30\n",
    "I am excited to learn and improve my data science skills!\n",
    "try:\n",
    "    result=num/den\n",
    "    print(result)\n",
    "\n",
    "except:\n",
    "    print(\"given den is zero\")\n",
    "given den is zero\n",
    "num=int(input(\"enter the num:\"))\n",
    "den=int(input(\"enter the num:\"))\n",
    "try:\n",
    "    result=num/den\n",
    "    print(result)\n",
    "\n",
    "except:\n",
    "    print(\"given den is zero\")\n",
    "2.0\n",
    "Regular Expressions\n",
    "useful for NLP\n",
    "we can easily clean the data\n",
    "used for pattern matching , text manipulation\n",
    "flexible way to search ,match,manipulate the text data\n",
    "RegEx Functions\n",
    "The 're' module offers a set of functions that allows us to search a string for a match\n",
    "there are 4 main functions\n",
    "1.findall():\n",
    "\n",
    "returns a list of containing all matches\n",
    "import re \n",
    "user=input(\"enter the char:\")\n",
    "txt=\"sushma\"\n",
    "x=re.findall(user,txt)\n",
    "print(x)\n",
    "[]\n",
    "import re \n",
    "user=input(\"enter the char:\")\n",
    "txt=\"sushma\"\n",
    "x=re.findall(user,txt)\n",
    "if x:\n",
    "    print(\"matched\",x)\n",
    "else:\n",
    "    print(\"not matched\",x)\n",
    "matched ['s', 's']\n",
    "import re\n",
    "txt = \"sushma\"\n",
    "x = re.findall(\"ma\", txt)\n",
    "if x:\n",
    "    print(\"matched\",x)\n",
    "else:\n",
    "    print(\"not matched\",x)\n",
    "matched ['ma']\n",
    "Search():\n",
    "Searches for the string for a match and returns a match object,if there is a match\n",
    "If there is more than one match ,only the first occurence of the match will be returned\n",
    "import re\n",
    "txt=\"the rain in spain\"\n",
    "x=re.search('i',txt)\n",
    "print(x.start())\n",
    "6\n",
    "import re\n",
    "txt=\"the rain in spain\"\n",
    "x=re.search('sp',txt)\n",
    "print(x.start())\n",
    "12\n",
    "3.split():\n",
    "\n",
    "used to return a list where the string has been split at each match\n",
    "import re\n",
    "txt=\"the rain in spain\"\n",
    "x=re.split('i',txt)\n",
    "print(x)\n",
    "['the ra', 'n ', 'n spa', 'n']\n",
    "import re\n",
    "txt=\"the rain in spain\"\n",
    "x=re.split('in',txt)\n",
    "print(x)\n",
    "['the ra', ' ', ' spa', '']\n",
    "import re\n",
    "txt=\"the rain in spain\"\n",
    "x=re.split(' ',txt)\n",
    "print(x)\n",
    "['the', 'rain', 'in', 'spain']\n",
    "import re\n",
    "txt=\"the rain in spain\"\n",
    "x=re.split('n',txt,2)\n",
    "print(x)\n",
    "['the rai', ' i', ' spain']\n",
    "4.sub():\n",
    "\n",
    "replaces the matches with the text of your choice\n",
    "import re\n",
    "txt=\"the rain in india\"\n",
    "x=re.sub(\"h\",\"u\",txt)\n",
    "print(x)\n",
    "tue rain in india\n",
    "import re\n",
    "txt=\"the rain in india\"\n",
    "x=re.sub(\"h\",\"12\",txt)\n",
    "print(x)\n",
    "t12e rain in india\n",
    "Remaining Functions\n",
    "1.Literal characters:\n",
    "\n",
    "that match exactly as they appear\n",
    "import re\n",
    "pattern = re.compile(r's')\n",
    "match = pattern.search('say hello to sushma')\n",
    "if match:\n",
    "    print('match found:', match.group())\n",
    "else:\n",
    "    print('match not found')\n",
    "match found: s\n",
    "import re\n",
    "pattern = re.compile(r'sus')\n",
    "match = pattern.search('say hello to sushma')\n",
    "if match:\n",
    "    print('match found:', match.group())\n",
    "else:\n",
    "    print('match not found')\n",
    "match found: sus\n",
    "2.Dot(.)wild card:\n",
    "\n",
    "is a special character that matches any single character except a newline\n",
    "import re\n",
    "pattern = r\"f..g\"\n",
    "text = \"fog, frog, flag\"\n",
    "matches = re.findall(pattern, text)\n",
    "if match:\n",
    "    print(\"match found:\" ,matches)\n",
    "else:\n",
    "    print(\"match not found\")\n",
    "match found: ['frog', 'flag']\n",
    "import re\n",
    "pattern = r\"c.t\"\n",
    "text = \"cat, dog, cut, mouse\"\n",
    "matches = re.findall(pattern, text)\n",
    "if match:\n",
    "    print(\"match found:\" ,matches)\n",
    "else:\n",
    "    print(\"match not found\")\n",
    "match found: ['cat', 'cut']\n",
    "3.Square brackets[ ]:\n",
    "\n",
    "define a character class, allowing you to match any one of several specified characters at a given position in the pattern.\n",
    "import re\n",
    "pattern = re.compile(r'[Hhello]')\n",
    "match = pattern.search('Hello')\n",
    "if match:\n",
    "    print('Match found:', match.group())\n",
    "else:\n",
    "    print('Match not found')\n",
    "Match found: H\n",
    "import re\n",
    "pattern = re.compile(r'[Hh]ello')\n",
    "match = pattern.search('Hello')\n",
    "if match:\n",
    "    print('Match found:', match.group())\n",
    "else:\n",
    "    print('Match not found')\n",
    "Match found: Hello\n",
    "import re\n",
    "text = \"cat, bat, rat, mat\"\n",
    "pattern = r\"[crm]at\"\n",
    "matches = re.findall(pattern, text)\n",
    "if match:\n",
    "    print('Match found:', matches)\n",
    "else:\n",
    "    print('Match not found')\n",
    "Match found: ['cat', 'rat', 'mat']"
   ]
  }
 ],
 "metadata": {
  "kernelspec": {
   "display_name": "Python 3 (ipykernel)",
   "language": "python",
   "name": "python3"
  },
  "language_info": {
   "codemirror_mode": {
    "name": "ipython",
    "version": 3
   },
   "file_extension": ".py",
   "mimetype": "text/x-python",
   "name": "python",
   "nbconvert_exporter": "python",
   "pygments_lexer": "ipython3",
   "version": "3.12.7"
  }
 },
 "nbformat": 4,
 "nbformat_minor": 5
}
