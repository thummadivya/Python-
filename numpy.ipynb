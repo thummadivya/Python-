{
 "cells": [
  {
   "cell_type": "markdown",
   "id": "f21e5550-d794-40dd-8745-7fec48d78e3a",
   "metadata": {},
   "source": [
    "Numpy\n",
    "- \n",
    "\n",
    "\n",
    "!pip install numpy --> syntax"
   ]
  },
  {
   "cell_type": "code",
   "execution_count": 2,
   "id": "ab6ae66a-6f87-449b-b869-4ff4f06750e7",
   "metadata": {},
   "outputs": [],
   "source": [
    "#importing numpy\n",
    "import numpy as np"
   ]
  },
  {
   "cell_type": "code",
   "execution_count": 4,
   "id": "08901775-9feb-4b3e-8dfe-1b8f6972b916",
   "metadata": {},
   "outputs": [],
   "source": [
    "#creating numpy\n",
    "a = np.array([1,2,3])  #1D\n",
    "b = np.array([[3,5,6], [35,3,2]])  #2D\n",
    "c = np.array([[[6,3,5], [4,5,3], [6,3,5]],\n",
    "              [[6,3,5], [4,5,3], [6,3,5]],\n",
    "              [[6,43,5], [4,35,3], [4,5,3]]])  #3D\n"
   ]
  },
  {
   "cell_type": "code",
   "execution_count": 6,
   "id": "acdcbb34-e7a2-4cba-bbfc-743d69b8ad1f",
   "metadata": {},
   "outputs": [
    {
     "name": "stdout",
     "output_type": "stream",
     "text": [
      "[1 2 3]\n"
     ]
    }
   ],
   "source": [
    "print(a)"
   ]
  },
  {
   "cell_type": "code",
   "execution_count": 8,
   "id": "b7169975-620a-4a20-900b-24fcdf4914b9",
   "metadata": {},
   "outputs": [
    {
     "name": "stdout",
     "output_type": "stream",
     "text": [
      "[[ 3  5  6]\n",
      " [35  3  2]]\n"
     ]
    }
   ],
   "source": [
    "print(b)"
   ]
  },
  {
   "cell_type": "code",
   "execution_count": 10,
   "id": "475d68b1-2b42-4540-91b0-ee84c666631c",
   "metadata": {},
   "outputs": [
    {
     "name": "stdout",
     "output_type": "stream",
     "text": [
      "[[[ 6  3  5]\n",
      "  [ 4  5  3]\n",
      "  [ 6  3  5]]\n",
      "\n",
      " [[ 6  3  5]\n",
      "  [ 4  5  3]\n",
      "  [ 6  3  5]]\n",
      "\n",
      " [[ 6 43  5]\n",
      "  [ 4 35  3]\n",
      "  [ 4  5  3]]]\n"
     ]
    }
   ],
   "source": [
    "print(c)"
   ]
  },
  {
   "cell_type": "code",
   "execution_count": 12,
   "id": "0f19c485-8329-4245-837e-a43e9c9ec12b",
   "metadata": {},
   "outputs": [],
   "source": [
    "d = np.array([[[[3,5,6], [35,3,2], [3,5,3]]],\n",
    "              [[[2,6,7], [5,4,3], [12,54,6]]],\n",
    "              [[[9,5,6], [3,7,6], [8,34,6]]]])"
   ]
  },
  {
   "cell_type": "code",
   "execution_count": 14,
   "id": "52d100bf-c31c-4fed-b59e-5e43ae0b51da",
   "metadata": {},
   "outputs": [
    {
     "name": "stdout",
     "output_type": "stream",
     "text": [
      "[[[[ 3  5  6]\n",
      "   [35  3  2]\n",
      "   [ 3  5  3]]]\n",
      "\n",
      "\n",
      " [[[ 2  6  7]\n",
      "   [ 5  4  3]\n",
      "   [12 54  6]]]\n",
      "\n",
      "\n",
      " [[[ 9  5  6]\n",
      "   [ 3  7  6]\n",
      "   [ 8 34  6]]]]\n"
     ]
    }
   ],
   "source": [
    "print(d)"
   ]
  },
  {
   "cell_type": "code",
   "execution_count": 18,
   "id": "d83bc6e7-7536-40eb-b50a-ab7a3e1f2ccf",
   "metadata": {},
   "outputs": [
    {
     "data": {
      "text/plain": [
       "array([[[0., 0., 0., 0.],\n",
       "        [0., 0., 0., 0.]],\n",
       "\n",
       "       [[0., 0., 0., 0.],\n",
       "        [0., 0., 0., 0.]],\n",
       "\n",
       "       [[0., 0., 0., 0.],\n",
       "        [0., 0., 0., 0.]]])"
      ]
     },
     "execution_count": 18,
     "metadata": {},
     "output_type": "execute_result"
    }
   ],
   "source": [
    "#create an array of zeros\n",
    "np.zeros((3,2,4))"
   ]
  },
  {
   "cell_type": "code",
   "execution_count": 26,
   "id": "d228bf29-4d09-408d-85c5-1629846d19d2",
   "metadata": {},
   "outputs": [
    {
     "data": {
      "text/plain": [
       "array([ 1.        ,  1.73684211,  2.47368421,  3.21052632,  3.94736842,\n",
       "        4.68421053,  5.42105263,  6.15789474,  6.89473684,  7.63157895,\n",
       "        8.36842105,  9.10526316,  9.84210526, 10.57894737, 11.31578947,\n",
       "       12.05263158, 12.78947368, 13.52631579, 14.26315789, 15.        ])"
      ]
     },
     "execution_count": 26,
     "metadata": {},
     "output_type": "execute_result"
    }
   ],
   "source": [
    "#create an array of evenly spaced values(number of samples)\n",
    "\n",
    "np.linspace(1, 15, 20)"
   ]
  },
  {
   "cell_type": "code",
   "execution_count": 30,
   "id": "f455cd3b-dafc-4e2b-a8ab-89e3e8e7b65f",
   "metadata": {},
   "outputs": [
    {
     "data": {
      "text/plain": [
       "array([[[1., 1., 1.],\n",
       "        [1., 1., 1.],\n",
       "        [1., 1., 1.],\n",
       "        [1., 1., 1.],\n",
       "        [1., 1., 1.]]])"
      ]
     },
     "execution_count": 30,
     "metadata": {},
     "output_type": "execute_result"
    }
   ],
   "source": [
    "#create an array of ones\n",
    "\n",
    "np.ones((1,5,3))  #shape,row,col"
   ]
  },
  {
   "cell_type": "code",
   "execution_count": null,
   "id": "79fccdd9-2555-4ee0-b1c2-a7b629bfc91b",
   "metadata": {},
   "outputs": [],
   "source": []
  },
  {
   "cell_type": "raw",
   "id": "546b1506-b117-4a94-ac88-9f57b76bca39",
   "metadata": {},
   "source": []
  },
  {
   "cell_type": "markdown",
   "id": "84a3bb9b-6223-42a4-88b9-4f0710123c04",
   "metadata": {},
   "source": [
    "Reshaping\n",
    "\n"
   ]
  },
  {
   "cell_type": "code",
   "execution_count": 49,
   "id": "629c2327-b2e3-4fe6-a13e-300bf2e6add5",
   "metadata": {},
   "outputs": [
    {
     "name": "stdout",
     "output_type": "stream",
     "text": [
      "13\n",
      "[[ 1  2  3  4  5  6  7  8  9 10 11 12 13]]\n"
     ]
    }
   ],
   "source": [
    "arr = np.array([1,2,3,4,5,6,7,8,9,10,11,12,13])\n",
    "\n",
    "print(arr.size)\n",
    "\n",
    "newarr = arr.reshape(1,13)\n",
    "print(newarr)"
   ]
  },
  {
   "cell_type": "code",
   "execution_count": 59,
   "id": "a0523389-2248-466c-8a8a-557b76df347f",
   "metadata": {},
   "outputs": [
    {
     "name": "stdout",
     "output_type": "stream",
     "text": [
      "12\n",
      "[[[ 1  2  3]\n",
      "  [ 4  5  6]\n",
      "  [ 7  8  9]\n",
      "  [10 11 12]]]\n"
     ]
    }
   ],
   "source": [
    "#convert 1-D array into 3-D array\n",
    "arr = np.array([1,2,3,4,5,6,7,8,9,10,11,12])\n",
    "print(arr.size)\n",
    "newarr = arr.reshape(1,4,3)\n",
    "print(newarr)"
   ]
  },
  {
   "cell_type": "code",
   "execution_count": 63,
   "id": "0774c356-910c-47de-8815-1cd7a4e972bb",
   "metadata": {},
   "outputs": [
    {
     "name": "stdout",
     "output_type": "stream",
     "text": [
      "12\n",
      "[[ 1  2  3  4  5  6]\n",
      " [ 7  8  9 10 11 12]]\n"
     ]
    }
   ],
   "source": [
    "#convert 1-D array into 2-D array\n",
    "arr = np.array([1,2,3,4,5,6,7,8,9,10,11,12])\n",
    "print(arr.size)\n",
    "newarr = arr.reshape(2,6)\n",
    "print(newarr)"
   ]
  },
  {
   "cell_type": "code",
   "execution_count": 76,
   "id": "53d8a046-11d8-407e-81ed-09af71ac1443",
   "metadata": {},
   "outputs": [
    {
     "name": "stdout",
     "output_type": "stream",
     "text": [
      "12\n",
      "[[[[ 1  2]\n",
      "   [ 3  4]\n",
      "   [ 5  6]]]\n",
      "\n",
      "\n",
      " [[[ 7  8]\n",
      "   [ 9 10]\n",
      "   [11 12]]]]\n"
     ]
    }
   ],
   "source": [
    "#convert 1-D array into 4-D array\n",
    "arr = np.array([1,2,3,4,5,6,7,8,9,10,11,12])\n",
    "print(arr.size)\n",
    "newarr = arr.reshape(2,1,3,2)\n",
    "print(newarr)"
   ]
  },
  {
   "cell_type": "code",
   "execution_count": 100,
   "id": "45eeb4a7-2602-49d1-9c8e-a48aabb40245",
   "metadata": {},
   "outputs": [
    {
     "name": "stdout",
     "output_type": "stream",
     "text": [
      "12\n",
      "[[[[[ 1  2]]\n",
      "\n",
      "   [[ 3  4]]\n",
      "\n",
      "   [[ 5  6]]\n",
      "\n",
      "   [[ 7  8]]\n",
      "\n",
      "   [[ 9 10]]\n",
      "\n",
      "   [[11 12]]]]]\n"
     ]
    }
   ],
   "source": [
    "#convert 1-D array into 5-D array\n",
    "arr = np.array([1,2,3,4,5,6,7,8,9,10,11,12])\n",
    "print(arr.size)\n",
    "newarr = arr.reshape(1,1,6,1,2)\n",
    "print(newarr)"
   ]
  },
  {
   "cell_type": "code",
   "execution_count": 104,
   "id": "f8d76891-e40d-4141-90b9-3817cd6726ee",
   "metadata": {},
   "outputs": [
    {
     "name": "stdout",
     "output_type": "stream",
     "text": [
      "[[3, 5, 6], [35, 3, 2]]\n"
     ]
    }
   ],
   "source": [
    "#convert 2-D array into 1-D array\n",
    "arr = ([[3,5,6], [35,3,2]])\n",
    "print(arr)\n"
   ]
  },
  {
   "cell_type": "code",
   "execution_count": null,
   "id": "e1adb2a0-8a05-45cb-9728-80aebb5ca1d7",
   "metadata": {},
   "outputs": [],
   "source": []
  }
 ],
 "metadata": {
  "kernelspec": {
   "display_name": "Python 3 (ipykernel)",
   "language": "python",
   "name": "python3"
  },
  "language_info": {
   "codemirror_mode": {
    "name": "ipython",
    "version": 3
   },
   "file_extension": ".py",
   "mimetype": "text/x-python",
   "name": "python",
   "nbconvert_exporter": "python",
   "pygments_lexer": "ipython3",
   "version": "3.12.7"
  }
 },
 "nbformat": 4,
 "nbformat_minor": 5
}
