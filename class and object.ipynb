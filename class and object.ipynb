{
 "cells": [
  {
   "cell_type": "markdown",
   "id": "7214223e-f800-49fc-9276-e89d9bded5c5",
   "metadata": {},
   "source": [
    "OOPS :\n",
    "--> Object Oriented Programming Language\n",
    "--> It deals with real world objects\n",
    "--> there are 4 pillars for oops\n",
    "       1) Inheritence\n",
    "       2) abstarction\n",
    "       3) polymorphism\n",
    "       4) encapsulation\n",
    "        and there are classes and objects in oops\n",
    "OOPS: bind the data and the functions that work together as a single unit so that no other part of the code can access the data .\n",
    "\n",
    "Class:\n",
    "--> collection of objects\n",
    "--> conatins the blueprint or the prototypes of the objects\n",
    "--> in one class we can wirte n no. of functions\n",
    "        syntax: classname():\n",
    "Object:\n",
    "--> which is behaviour and state associated in it\n",
    "--> it is a instence of the class"
   ]
  },
  {
   "cell_type": "code",
   "execution_count": 46,
   "id": "0477b97a-7b49-4276-bdaa-d2f654a4da2c",
   "metadata": {},
   "outputs": [
    {
     "name": "stdout",
     "output_type": "stream",
     "text": [
      "5\n",
      "hello\n"
     ]
    }
   ],
   "source": [
    "class myclass:\n",
    "    x=5\n",
    "    u=\"hello\"\n",
    "obj1=myclass()\n",
    "print(obj1.x)\n",
    "print(obj1.u)"
   ]
  },
  {
   "cell_type": "code",
   "execution_count": 48,
   "id": "a7fb76f4-a4ca-4a36-9480-e2f1313ba5a1",
   "metadata": {},
   "outputs": [
    {
     "name": "stdout",
     "output_type": "stream",
     "text": [
      "welcome to data science class at 5:30pm\n"
     ]
    }
   ],
   "source": [
    "class data:\n",
    "    d=\"welcome to data science class at 5:30pm\"\n",
    "obj=data()\n",
    "print(obj.d)"
   ]
  },
  {
   "cell_type": "code",
   "execution_count": 50,
   "id": "519706cc-e882-48e6-9ec9-e50e6207949f",
   "metadata": {},
   "outputs": [],
   "source": [
    "class Dog:\n",
    "    def __init__(self,name,age):\n",
    "        self.name=name\n",
    "        self.age=age\n",
    "    def bark(self):\n",
    "        print(\"bow bow\")"
   ]
  },
  {
   "cell_type": "code",
   "execution_count": 52,
   "id": "e4fcd54b-c13e-42ec-88e4-97b2aaff7781",
   "metadata": {},
   "outputs": [
    {
     "name": "stdout",
     "output_type": "stream",
     "text": [
      "max is 5 years old\n"
     ]
    }
   ],
   "source": [
    "dog1=Dog(\"max\",5)\n",
    "print(f'{dog1.name} is {dog1.age} years old')"
   ]
  },
  {
   "cell_type": "code",
   "execution_count": 54,
   "id": "c33c0c96-195e-4cab-bcbf-1b1017388367",
   "metadata": {},
   "outputs": [
    {
     "name": "stdout",
     "output_type": "stream",
     "text": [
      "Buddy is 6 years old\n"
     ]
    }
   ],
   "source": [
    "dog2=Dog(\"Buddy\",6)\n",
    "print(f'{dog2.name} is {dog2.age} years old')"
   ]
  },
  {
   "cell_type": "code",
   "execution_count": 56,
   "id": "286e7d14-9f3e-4d66-93cc-d5f85e04a0ff",
   "metadata": {},
   "outputs": [
    {
     "name": "stdout",
     "output_type": "stream",
     "text": [
      "bow bow\n",
      "bow bow\n"
     ]
    }
   ],
   "source": [
    "dog1.bark()\n",
    "dog2.bark()"
   ]
  },
  {
   "cell_type": "code",
   "execution_count": 58,
   "id": "3895d048-97eb-48a8-abb4-12e10690f3f1",
   "metadata": {},
   "outputs": [],
   "source": [
    "class Hospital:\n",
    "    def __init__(self,name, disease):\n",
    "        self.name = name\n",
    "        self.disease = disease\n",
    "    \n",
    "    def die(self):\n",
    "        print(\"gone\")"
   ]
  },
  {
   "cell_type": "code",
   "execution_count": 60,
   "id": "e91ae82d-c716-4128-8265-8cc4d8a2ea9e",
   "metadata": {},
   "outputs": [
    {
     "name": "stdout",
     "output_type": "stream",
     "text": [
      "djbeid had gone at the age of 90\n"
     ]
    }
   ],
   "source": [
    "a=Hospital(\"djbeid\",90)\n",
    "print(f'{a.name} had gone at the age of {a.disease}')"
   ]
  },
  {
   "cell_type": "code",
   "execution_count": 62,
   "id": "1a3521c8-3c00-4277-af9d-9755e36c93ab",
   "metadata": {},
   "outputs": [],
   "source": [
    "class student:\n",
    "    def __init__(self,name,age):\n",
    "        self.name=name\n",
    "        self.age=age"
   ]
  },
  {
   "cell_type": "code",
   "execution_count": 64,
   "id": "368d4d3e-c2f8-4499-9d94-21a372ae13b4",
   "metadata": {},
   "outputs": [
    {
     "name": "stdout",
     "output_type": "stream",
     "text": [
      "student name is sushma and 20 years old\n",
      "student name is Harsha and 19 years old\n"
     ]
    }
   ],
   "source": [
    "s1=student(\"sushma\",20)\n",
    "s2=student(\"Harsha\",19)\n",
    "print(f'student name is {s1.name} and {s1.age} years old')\n",
    "print(f'student name is {s2.name} and {s2.age} years old')"
   ]
  },
  {
   "cell_type": "code",
   "execution_count": 66,
   "id": "bbb4def0-71fc-4ca7-af16-453924eb2292",
   "metadata": {},
   "outputs": [],
   "source": [
    "class transport:\n",
    "    def __init__(self,name,number):\n",
    "        self.name=name\n",
    "        self.number=number\n",
    "    def hirn(self):\n",
    "        print(\"peep peep\")"
   ]
  },
  {
   "cell_type": "code",
   "execution_count": 68,
   "id": "81d3aece-48cb-4b88-9389-8e49bb4b4e9c",
   "metadata": {},
   "outputs": [
    {
     "name": "stdout",
     "output_type": "stream",
     "text": [
      "Lorry is number is 8\n"
     ]
    }
   ],
   "source": [
    "v1=transport(\"Lorry\",8)\n",
    "print(f'{v1.name} is number is {v1.number}')"
   ]
  },
  {
   "cell_type": "code",
   "execution_count": 70,
   "id": "cd23b11f-ac86-4f0b-a2de-02a6895e8097",
   "metadata": {},
   "outputs": [],
   "source": [
    "class name:\n",
    "    s=\"my name is sushma\""
   ]
  },
  {
   "cell_type": "code",
   "execution_count": 72,
   "id": "5f7ee132-e8f9-4384-8eac-86a3bdd569c3",
   "metadata": {},
   "outputs": [
    {
     "name": "stdout",
     "output_type": "stream",
     "text": [
      "my name is sushma\n"
     ]
    }
   ],
   "source": [
    "a=name()\n",
    "print(a.s)"
   ]
  },
  {
   "cell_type": "code",
   "execution_count": null,
   "id": "12803548-20ec-4d1c-ab95-d0eb421d5c85",
   "metadata": {},
   "outputs": [],
   "source": []
  },
  {
   "cell_type": "code",
   "execution_count": null,
   "id": "ee02c044-bb3e-49fd-b264-a5dfb2605004",
   "metadata": {},
   "outputs": [],
   "source": []
  },
  {
   "cell_type": "code",
   "execution_count": null,
   "id": "99001dc0-8c5a-4315-bfdb-7e59daf2ff97",
   "metadata": {},
   "outputs": [],
   "source": []
  },
  {
   "cell_type": "code",
   "execution_count": null,
   "id": "1a735b3b-97cd-4b6a-b016-ac68861c00af",
   "metadata": {},
   "outputs": [],
   "source": []
  }
 ],
 "metadata": {
  "kernelspec": {
   "display_name": "Python 3 (ipykernel)",
   "language": "python",
   "name": "python3"
  },
  "language_info": {
   "codemirror_mode": {
    "name": "ipython",
    "version": 3
   },
   "file_extension": ".py",
   "mimetype": "text/x-python",
   "name": "python",
   "nbconvert_exporter": "python",
   "pygments_lexer": "ipython3",
   "version": "3.12.7"
  }
 },
 "nbformat": 4,
 "nbformat_minor": 5
}
